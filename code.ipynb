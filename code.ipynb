{
 "cells": [
  {
   "cell_type": "code",
   "execution_count": 1,
   "metadata": {},
   "outputs": [
    {
     "name": "stdout",
     "output_type": "stream",
     "text": [
      "Hello, Python!\n"
     ]
    }
   ],
   "source": [
    "print(\"Hello, Python!\")"
   ]
  },
  {
   "cell_type": "markdown",
   "metadata": {},
   "source": [
    "**Bài tập 1**\n",
    "*Viết hàm tính tổng 2 số thực cho trước*"
   ]
  },
  {
   "cell_type": "code",
   "execution_count": 4,
   "metadata": {},
   "outputs": [
    {
     "name": "stdout",
     "output_type": "stream",
     "text": [
      "10.2+3.6=13.799999999999999\n"
     ]
    }
   ],
   "source": [
    "def sum(a, b):\n",
    "    return a+b\n",
    "\n",
    "x = 10.2\n",
    "y = 3.6\n",
    "print(str(x)+\"+\"+str(y)+\"=\"+str(sum(x, y)))"
   ]
  },
  {
   "cell_type": "code",
   "execution_count": 6,
   "metadata": {},
   "outputs": [
    {
     "name": "stdout",
     "output_type": "stream",
     "text": [
      "10.2 + 3.6 = 13.799999999999999\n"
     ]
    }
   ],
   "source": [
    "print(x, \"+\", y, \"=\", sum(x,y))"
   ]
  },
  {
   "cell_type": "markdown",
   "metadata": {},
   "source": [
    "**Bài tập 2** Tính tổng các số chẵn 2+4+...+10"
   ]
  },
  {
   "cell_type": "code",
   "execution_count": 8,
   "metadata": {},
   "outputs": [],
   "source": [
    "def SumA(n):\n",
    "    s = 0\n",
    "    for i in range(2, n+1, 2):\n",
    "        s += i\n",
    "    return s"
   ]
  },
  {
   "cell_type": "code",
   "execution_count": null,
   "metadata": {},
   "outputs": [
    {
     "name": "stdout",
     "output_type": "stream",
     "text": [
      "2+4+...+ 10 = 30\n"
     ]
    }
   ],
   "source": [
    "n = 11\n",
    "print(\"2+4+...+\", n if n%2==0 else n-1, \"=\", SumA(n))"
   ]
  },
  {
   "cell_type": "markdown",
   "metadata": {},
   "source": [
    "**Bài tập 3** Xây dựng lớp Vector (2 chiều)"
   ]
  },
  {
   "cell_type": "code",
   "execution_count": 3,
   "metadata": {},
   "outputs": [
    {
     "name": "stdout",
     "output_type": "stream",
     "text": [
      "(3, 4)\n",
      "(2, 3)\n",
      "False\n"
     ]
    }
   ],
   "source": [
    "class Vector(object):\n",
    "    #Thuộc tính\n",
    "    __x__ = 0\n",
    "    __y__ = 0\n",
    "    def getX(self): return self.__x__\n",
    "    def getY(self): return self.__y__\n",
    "    def setX(self, x): self.__x__ = x\n",
    "    def setY(self, y): self.__y__ = y\n",
    "\n",
    "    #Phương thức\n",
    "    def __init__(self, x, y):\n",
    "        self.__x__ = x\n",
    "        self.__y__ = y\n",
    "    def __str__(self):\n",
    "        return \"(\"+str(self.__x__)+\", \"+str(self.__y__)+\")\"\n",
    "    def __add__(self, v):\n",
    "        return Vector(self.__x__+v.__x__, self.__y__+v.__y__)\n",
    "    def __sub__(self, v):\n",
    "        return Vector(self.__x__-v.__x__, self.__y__-v.__y__)\n",
    "    def __mul__(self, v):\n",
    "        return self.__x__*v.__x__ + self.__y__*v.__y__\n",
    "    def __matmul__(self, v):\n",
    "        return self*v==0\n",
    "\n",
    "#outside class Vector\n",
    "u = Vector(3, 4)\n",
    "v = Vector(2, 3)\n",
    "print(u)\n",
    "print(v)\n",
    "print(u @ v)"
   ]
  }
 ],
 "metadata": {
  "kernelspec": {
   "display_name": "Python 3",
   "language": "python",
   "name": "python3"
  },
  "language_info": {
   "codemirror_mode": {
    "name": "ipython",
    "version": 3
   },
   "file_extension": ".py",
   "mimetype": "text/x-python",
   "name": "python",
   "nbconvert_exporter": "python",
   "pygments_lexer": "ipython3",
   "version": "3.11.5"
  }
 },
 "nbformat": 4,
 "nbformat_minor": 2
}
